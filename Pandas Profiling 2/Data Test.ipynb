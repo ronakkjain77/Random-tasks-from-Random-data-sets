{
 "cells": [
  {
   "cell_type": "code",
   "execution_count": 1,
   "id": "1ade690a",
   "metadata": {},
   "outputs": [],
   "source": [
    "import pandas as pd"
   ]
  },
  {
   "cell_type": "code",
   "execution_count": 2,
   "id": "275edcc5",
   "metadata": {},
   "outputs": [],
   "source": [
    "from pandas_profiling import ProfileReport"
   ]
  },
  {
   "cell_type": "code",
   "execution_count": 5,
   "id": "3ab82cc1",
   "metadata": {},
   "outputs": [
    {
     "data": {
      "text/html": [
       "<div>\n",
       "<style scoped>\n",
       "    .dataframe tbody tr th:only-of-type {\n",
       "        vertical-align: middle;\n",
       "    }\n",
       "\n",
       "    .dataframe tbody tr th {\n",
       "        vertical-align: top;\n",
       "    }\n",
       "\n",
       "    .dataframe thead th {\n",
       "        text-align: right;\n",
       "    }\n",
       "</style>\n",
       "<table border=\"1\" class=\"dataframe\">\n",
       "  <thead>\n",
       "    <tr style=\"text-align: right;\">\n",
       "      <th></th>\n",
       "      <th>Review</th>\n",
       "      <th>date</th>\n",
       "      <th>Location</th>\n",
       "      <th>Unnamed: 3</th>\n",
       "    </tr>\n",
       "  </thead>\n",
       "  <tbody>\n",
       "    <tr>\n",
       "      <th>0</th>\n",
       "      <td>I was very impressed with the resort.\\n Great ...</td>\n",
       "      <td>2019/08/20</td>\n",
       "      <td>Sebastian</td>\n",
       "      <td>NaN</td>\n",
       "    </tr>\n",
       "    <tr>\n",
       "      <th>1</th>\n",
       "      <td>The rooms were nice the outside needs work als...</td>\n",
       "      <td>2019/08/20</td>\n",
       "      <td>Los Angeles</td>\n",
       "      <td>NaN</td>\n",
       "    </tr>\n",
       "    <tr>\n",
       "      <th>2</th>\n",
       "      <td>Great location! I have stayed at this hotel on...</td>\n",
       "      <td>2019/08/20</td>\n",
       "      <td>Georgia</td>\n",
       "      <td>NaN</td>\n",
       "    </tr>\n",
       "    <tr>\n",
       "      <th>3</th>\n",
       "      <td>The hotel was adequate for my stay. The strips...</td>\n",
       "      <td>2019/08/20</td>\n",
       "      <td>NaN</td>\n",
       "      <td>NaN</td>\n",
       "    </tr>\n",
       "    <tr>\n",
       "      <th>4</th>\n",
       "      <td>Great location, room was large and spacious. P...</td>\n",
       "      <td>2019/08/19</td>\n",
       "      <td>Palm Harbor</td>\n",
       "      <td>NaN</td>\n",
       "    </tr>\n",
       "    <tr>\n",
       "      <th>...</th>\n",
       "      <td>...</td>\n",
       "      <td>...</td>\n",
       "      <td>...</td>\n",
       "      <td>...</td>\n",
       "    </tr>\n",
       "    <tr>\n",
       "      <th>6443</th>\n",
       "      <td>·the staff were all so friendly. frank, the ch...</td>\n",
       "      <td>2019/07/12</td>\n",
       "      <td>United States of America</td>\n",
       "      <td>NaN</td>\n",
       "    </tr>\n",
       "    <tr>\n",
       "      <th>6444</th>\n",
       "      <td>·the internet barely worked or didn't work</td>\n",
       "      <td>2019/07/12</td>\n",
       "      <td>United States of America</td>\n",
       "      <td>NaN</td>\n",
       "    </tr>\n",
       "    <tr>\n",
       "      <th>6445</th>\n",
       "      <td>·the location was great.\\n \\n \\n \\n \\n ·the be...</td>\n",
       "      <td>2019/07/10</td>\n",
       "      <td>United States of America</td>\n",
       "      <td>NaN</td>\n",
       "    </tr>\n",
       "    <tr>\n",
       "      <th>6446</th>\n",
       "      <td>·we were early for check in and the staff was ...</td>\n",
       "      <td>2019/07/10</td>\n",
       "      <td>United States of America</td>\n",
       "      <td>NaN</td>\n",
       "    </tr>\n",
       "    <tr>\n",
       "      <th>6447</th>\n",
       "      <td>·staff, free coffee, location and activities.\\...</td>\n",
       "      <td>2019/07/10</td>\n",
       "      <td>United States of America</td>\n",
       "      <td>NaN</td>\n",
       "    </tr>\n",
       "  </tbody>\n",
       "</table>\n",
       "<p>6448 rows × 4 columns</p>\n",
       "</div>"
      ],
      "text/plain": [
       "                                                 Review        date  \\\n",
       "0     I was very impressed with the resort.\\n Great ...  2019/08/20   \n",
       "1     The rooms were nice the outside needs work als...  2019/08/20   \n",
       "2     Great location! I have stayed at this hotel on...  2019/08/20   \n",
       "3     The hotel was adequate for my stay. The strips...  2019/08/20   \n",
       "4     Great location, room was large and spacious. P...  2019/08/19   \n",
       "...                                                 ...         ...   \n",
       "6443  ·the staff were all so friendly. frank, the ch...  2019/07/12   \n",
       "6444         ·the internet barely worked or didn't work  2019/07/12   \n",
       "6445  ·the location was great.\\n \\n \\n \\n \\n ·the be...  2019/07/10   \n",
       "6446  ·we were early for check in and the staff was ...  2019/07/10   \n",
       "6447  ·staff, free coffee, location and activities.\\...  2019/07/10   \n",
       "\n",
       "                      Location  Unnamed: 3  \n",
       "0                    Sebastian         NaN  \n",
       "1                  Los Angeles         NaN  \n",
       "2                      Georgia         NaN  \n",
       "3                          NaN         NaN  \n",
       "4                  Palm Harbor         NaN  \n",
       "...                        ...         ...  \n",
       "6443  United States of America         NaN  \n",
       "6444  United States of America         NaN  \n",
       "6445  United States of America         NaN  \n",
       "6446  United States of America         NaN  \n",
       "6447  United States of America         NaN  \n",
       "\n",
       "[6448 rows x 4 columns]"
      ]
     },
     "execution_count": 5,
     "metadata": {},
     "output_type": "execute_result"
    }
   ],
   "source": [
    "df = pd.read_csv('Data Analyst - Test Data.csv', encoding='utf8')\n",
    "df"
   ]
  },
  {
   "cell_type": "code",
   "execution_count": 6,
   "id": "7c4808c9",
   "metadata": {},
   "outputs": [],
   "source": [
    "design_report = ProfileReport(df)"
   ]
  },
  {
   "cell_type": "code",
   "execution_count": 7,
   "id": "8f87edcb",
   "metadata": {},
   "outputs": [
    {
     "data": {
      "application/vnd.jupyter.widget-view+json": {
       "model_id": "943a9ff729264a8b93fb4ec6f705db30",
       "version_major": 2,
       "version_minor": 0
      },
      "text/plain": [
       "Summarize dataset:   0%|          | 0/5 [00:00<?, ?it/s]"
      ]
     },
     "metadata": {},
     "output_type": "display_data"
    },
    {
     "data": {
      "application/vnd.jupyter.widget-view+json": {
       "model_id": "8a6a7cf706494b9ea7ec845e8dd92a39",
       "version_major": 2,
       "version_minor": 0
      },
      "text/plain": [
       "Generate report structure:   0%|          | 0/1 [00:00<?, ?it/s]"
      ]
     },
     "metadata": {},
     "output_type": "display_data"
    },
    {
     "data": {
      "application/vnd.jupyter.widget-view+json": {
       "model_id": "0712e6dfc94141a086c81f151aa393b8",
       "version_major": 2,
       "version_minor": 0
      },
      "text/plain": [
       "Render HTML:   0%|          | 0/1 [00:00<?, ?it/s]"
      ]
     },
     "metadata": {},
     "output_type": "display_data"
    },
    {
     "data": {
      "application/vnd.jupyter.widget-view+json": {
       "model_id": "c5afad21400742a8a5b529b84f97719e",
       "version_major": 2,
       "version_minor": 0
      },
      "text/plain": [
       "Export report to file:   0%|          | 0/1 [00:00<?, ?it/s]"
      ]
     },
     "metadata": {},
     "output_type": "display_data"
    }
   ],
   "source": [
    "design_report.to_file(output_file='report2.html')"
   ]
  },
  {
   "cell_type": "code",
   "execution_count": null,
   "id": "bfc54991",
   "metadata": {},
   "outputs": [],
   "source": []
  }
 ],
 "metadata": {
  "kernelspec": {
   "display_name": "Python 3 (ipykernel)",
   "language": "python",
   "name": "python3"
  },
  "language_info": {
   "codemirror_mode": {
    "name": "ipython",
    "version": 3
   },
   "file_extension": ".py",
   "mimetype": "text/x-python",
   "name": "python",
   "nbconvert_exporter": "python",
   "pygments_lexer": "ipython3",
   "version": "3.8.5"
  }
 },
 "nbformat": 4,
 "nbformat_minor": 5
}
