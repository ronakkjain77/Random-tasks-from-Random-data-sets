{
 "cells": [
  {
   "cell_type": "markdown",
   "id": "e6fa1c57",
   "metadata": {},
   "source": [
    "# GDTC Assignment"
   ]
  },
  {
   "cell_type": "markdown",
   "id": "3a9c46b0",
   "metadata": {},
   "source": [
    "#### Task 1"
   ]
  },
  {
   "cell_type": "code",
   "execution_count": 2,
   "id": "4c9332c8",
   "metadata": {},
   "outputs": [],
   "source": [
    "import pandas as pd"
   ]
  },
  {
   "cell_type": "code",
   "execution_count": 3,
   "id": "1223ff46",
   "metadata": {},
   "outputs": [],
   "source": [
    "df1 = pd.read_csv('insurance_data.csv')\n",
    "df2 = pd.read_csv('employee_data.csv')\n",
    "df3 = pd.read_csv('vendor_data.csv')"
   ]
  },
  {
   "cell_type": "code",
   "execution_count": 4,
   "id": "891fa7a0",
   "metadata": {},
   "outputs": [],
   "source": [
    "df = df1.merge(df3, on='VENDOR_ID', how='left').merge(df2, on='AGENT_ID', how='left')"
   ]
  },
  {
   "cell_type": "code",
   "execution_count": 5,
   "id": "db2ddfd6",
   "metadata": {},
   "outputs": [
    {
     "name": "stdout",
     "output_type": "stream",
     "text": [
      "            TXN_DATE_TIME TRANSACTION_ID CUSTOMER_ID POLICY_NUMBER  \\\n",
      "0     2020-06-01 00:00:00    TXN00000001   A00003822   PLC00008468   \n",
      "1     2020-06-01 00:00:00    TXN00000002   A00008149   PLC00009594   \n",
      "2     2020-06-01 00:00:00    TXN00000003   A00003172   PLC00007969   \n",
      "3     2020-06-01 00:00:00    TXN00000004   A00007572   PLC00009292   \n",
      "4     2020-06-01 00:00:00    TXN00000005   A00008173   PLC00000204   \n",
      "...                   ...            ...         ...           ...   \n",
      "9995  2021-06-30 00:00:00    TXN00009996   A00006029   PLC00007245   \n",
      "9996  2021-06-30 00:00:00    TXN00009997   A00003555   PLC00002590   \n",
      "9997  2021-06-30 00:00:00    TXN00009998   A00004230   PLC00006613   \n",
      "9998  2021-06-30 00:00:00    TXN00009999   A00006694   PLC00001781   \n",
      "9999  2021-06-30 00:00:00    TXN00010000   A00000390   PLC00005197   \n",
      "\n",
      "     POLICY_EFF_DT     LOSS_DT   REPORT_DT INSURANCE_TYPE  PREMIUM_AMOUNT  \\\n",
      "0       2015-06-23  2020-05-16  2020-05-21         Health          157.13   \n",
      "1       2018-04-21  2020-05-13  2020-05-18       Property          141.71   \n",
      "2       2019-10-03  2020-05-21  2020-05-26       Property          157.24   \n",
      "3       2016-11-29  2020-05-14  2020-05-19         Health          172.87   \n",
      "4       2011-12-26  2020-05-17  2020-05-22         Travel           88.53   \n",
      "...            ...         ...         ...            ...             ...   \n",
      "9995    2014-04-11  2021-06-25  2021-06-26          Motor          105.75   \n",
      "9996    2015-08-25  2021-06-12  2021-06-17           Life           64.59   \n",
      "9997    2018-10-11  2021-06-18  2021-06-23         Health          183.50   \n",
      "9998    2016-01-29  2021-06-16  2021-06-21          Motor          113.46   \n",
      "9999    2014-09-17  2021-06-21  2021-06-24         Mobile            8.22   \n",
      "\n",
      "      CLAIM_AMOUNT  ... POSTAL_CODE_y       AGENT_NAME DATE_OF_JOINING  \\\n",
      "0             9000  ...       32405.0      Amy Wangler      1994-01-06   \n",
      "1            26000  ...       72701.0   Jessica Montez      2004-05-28   \n",
      "2            13000  ...       72703.0     Howard Smith      2004-08-01   \n",
      "3            16000  ...       37215.0  Patricia Tucker      2007-06-12   \n",
      "4             3000  ...       20018.0      Brenda Bean      2010-01-19   \n",
      "...            ...  ...           ...              ...             ...   \n",
      "9995          1000  ...           NaN    Melissa Scott      1990-10-12   \n",
      "9996         67000  ...       94587.0     Freda Dudley      2013-01-17   \n",
      "9997          8000  ...        2492.0    Victor Perrin      1993-02-11   \n",
      "9998          2000  ...       21402.0       Maria Lynn      2010-04-16   \n",
      "9999           300  ...       94555.0      Carl Balado      2007-10-26   \n",
      "\n",
      "                    ADDRESS_LINE1 ADDRESS_LINE2          CITY STATE  \\\n",
      "0             584 Rural Hill Road           NaN     Nashville    TN   \n",
      "1           6114 West Glenn Drive            #1      Glendale    AZ   \n",
      "2     2500 Snowdoun Chambers Road           NaN    Montgomery    AL   \n",
      "3              313 Lone Oak Drive           NaN        Norman    OK   \n",
      "4                120 Wells Avenue           NaN   Glen Burnie    MD   \n",
      "...                           ...           ...           ...   ...   \n",
      "9995    2723 East Joyce Boulevard           NaN  Fayetteville    AR   \n",
      "9996        1363 Dean Forest Road           NaN      Savannah    GA   \n",
      "9997           9912 Shirewick Way           NaN    Louisville    KY   \n",
      "9998      302 East Granada Street           NaN  Fayetteville    AR   \n",
      "9999               1713 Apian Way           NaN        Edmond    OK   \n",
      "\n",
      "     POSTAL_CODE  EMP_ROUTING_NUMBER     EMP_ACCT_NUMBER  \n",
      "0          37217            35441155  LRZO53254369804934  \n",
      "1          85301            44055451  XBYG14382904542874  \n",
      "2          36105            55770246  WRXH14597428306333  \n",
      "3          73071            87652976  YEPN16077902472499  \n",
      "4          21061            76119019  HZBK86544578578547  \n",
      "...          ...                 ...                 ...  \n",
      "9995       72703            35413882  LFOJ76068590051807  \n",
      "9996       31405            91206790  AHEF60771774635030  \n",
      "9997       40272           115241097  WREH18805592939657  \n",
      "9998       72703            13995380  AAZI21883736448048  \n",
      "9999       73003            39790996  RPES05613584687957  \n",
      "\n",
      "[10000 rows x 53 columns]\n"
     ]
    }
   ],
   "source": [
    "print (df)"
   ]
  },
  {
   "cell_type": "markdown",
   "id": "1b55e70e",
   "metadata": {},
   "source": [
    "#### Task 2"
   ]
  },
  {
   "cell_type": "code",
   "execution_count": 6,
   "id": "b0accd06",
   "metadata": {},
   "outputs": [
    {
     "data": {
      "text/plain": [
       "Property    1692\n",
       "Mobile      1692\n",
       "Health      1690\n",
       "Life        1682\n",
       "Travel      1670\n",
       "Motor       1574\n",
       "Name: INSURANCE_TYPE, dtype: int64"
      ]
     },
     "execution_count": 6,
     "metadata": {},
     "output_type": "execute_result"
    }
   ],
   "source": [
    "df['INSURANCE_TYPE'].value_counts()"
   ]
  },
  {
   "cell_type": "code",
   "execution_count": 7,
   "id": "bb0cf70c",
   "metadata": {},
   "outputs": [
    {
     "data": {
      "text/plain": [
       "['Property', 'Mobile', 'Health']"
      ]
     },
     "execution_count": 7,
     "metadata": {},
     "output_type": "execute_result"
    }
   ],
   "source": [
    "n = 3\n",
    "df['INSURANCE_TYPE'].value_counts().index.tolist()[:n]"
   ]
  },
  {
   "cell_type": "markdown",
   "id": "a4b55877",
   "metadata": {},
   "source": [
    "#### Task 3"
   ]
  },
  {
   "cell_type": "code",
   "execution_count": 8,
   "id": "50d73721",
   "metadata": {},
   "outputs": [
    {
     "data": {
      "text/html": [
       "<div>\n",
       "<style scoped>\n",
       "    .dataframe tbody tr th:only-of-type {\n",
       "        vertical-align: middle;\n",
       "    }\n",
       "\n",
       "    .dataframe tbody tr th {\n",
       "        vertical-align: top;\n",
       "    }\n",
       "\n",
       "    .dataframe thead th {\n",
       "        text-align: right;\n",
       "    }\n",
       "</style>\n",
       "<table border=\"1\" class=\"dataframe\">\n",
       "  <thead>\n",
       "    <tr style=\"text-align: right;\">\n",
       "      <th></th>\n",
       "      <th>TXN_DATE_TIME</th>\n",
       "      <th>TRANSACTION_ID</th>\n",
       "      <th>CUSTOMER_ID</th>\n",
       "      <th>POLICY_NUMBER</th>\n",
       "      <th>POLICY_EFF_DT</th>\n",
       "      <th>LOSS_DT</th>\n",
       "      <th>REPORT_DT</th>\n",
       "      <th>INSURANCE_TYPE</th>\n",
       "      <th>PREMIUM_AMOUNT</th>\n",
       "      <th>CLAIM_AMOUNT</th>\n",
       "      <th>...</th>\n",
       "      <th>POSTAL_CODE_y</th>\n",
       "      <th>AGENT_NAME</th>\n",
       "      <th>DATE_OF_JOINING</th>\n",
       "      <th>ADDRESS_LINE1</th>\n",
       "      <th>ADDRESS_LINE2</th>\n",
       "      <th>CITY</th>\n",
       "      <th>STATE</th>\n",
       "      <th>POSTAL_CODE</th>\n",
       "      <th>EMP_ROUTING_NUMBER</th>\n",
       "      <th>EMP_ACCT_NUMBER</th>\n",
       "    </tr>\n",
       "  </thead>\n",
       "  <tbody>\n",
       "    <tr>\n",
       "      <th>0</th>\n",
       "      <td>2020-06-01 00:00:00</td>\n",
       "      <td>TXN00000001</td>\n",
       "      <td>A00003822</td>\n",
       "      <td>PLC00008468</td>\n",
       "      <td>2015-06-23</td>\n",
       "      <td>2020-05-16</td>\n",
       "      <td>2020-05-21</td>\n",
       "      <td>Health</td>\n",
       "      <td>157.13</td>\n",
       "      <td>9000</td>\n",
       "      <td>...</td>\n",
       "      <td>32405.0</td>\n",
       "      <td>Amy Wangler</td>\n",
       "      <td>1994-01-06</td>\n",
       "      <td>584 Rural Hill Road</td>\n",
       "      <td>NaN</td>\n",
       "      <td>Nashville</td>\n",
       "      <td>TN</td>\n",
       "      <td>37217</td>\n",
       "      <td>35441155</td>\n",
       "      <td>LRZO53254369804934</td>\n",
       "    </tr>\n",
       "    <tr>\n",
       "      <th>1</th>\n",
       "      <td>2020-06-01 00:00:00</td>\n",
       "      <td>TXN00000002</td>\n",
       "      <td>A00008149</td>\n",
       "      <td>PLC00009594</td>\n",
       "      <td>2018-04-21</td>\n",
       "      <td>2020-05-13</td>\n",
       "      <td>2020-05-18</td>\n",
       "      <td>Property</td>\n",
       "      <td>141.71</td>\n",
       "      <td>26000</td>\n",
       "      <td>...</td>\n",
       "      <td>72701.0</td>\n",
       "      <td>Jessica Montez</td>\n",
       "      <td>2004-05-28</td>\n",
       "      <td>6114 West Glenn Drive</td>\n",
       "      <td>#1</td>\n",
       "      <td>Glendale</td>\n",
       "      <td>AZ</td>\n",
       "      <td>85301</td>\n",
       "      <td>44055451</td>\n",
       "      <td>XBYG14382904542874</td>\n",
       "    </tr>\n",
       "    <tr>\n",
       "      <th>2</th>\n",
       "      <td>2020-06-01 00:00:00</td>\n",
       "      <td>TXN00000003</td>\n",
       "      <td>A00003172</td>\n",
       "      <td>PLC00007969</td>\n",
       "      <td>2019-10-03</td>\n",
       "      <td>2020-05-21</td>\n",
       "      <td>2020-05-26</td>\n",
       "      <td>Property</td>\n",
       "      <td>157.24</td>\n",
       "      <td>13000</td>\n",
       "      <td>...</td>\n",
       "      <td>72703.0</td>\n",
       "      <td>Howard Smith</td>\n",
       "      <td>2004-08-01</td>\n",
       "      <td>2500 Snowdoun Chambers Road</td>\n",
       "      <td>NaN</td>\n",
       "      <td>Montgomery</td>\n",
       "      <td>AL</td>\n",
       "      <td>36105</td>\n",
       "      <td>55770246</td>\n",
       "      <td>WRXH14597428306333</td>\n",
       "    </tr>\n",
       "    <tr>\n",
       "      <th>3</th>\n",
       "      <td>2020-06-01 00:00:00</td>\n",
       "      <td>TXN00000004</td>\n",
       "      <td>A00007572</td>\n",
       "      <td>PLC00009292</td>\n",
       "      <td>2016-11-29</td>\n",
       "      <td>2020-05-14</td>\n",
       "      <td>2020-05-19</td>\n",
       "      <td>Health</td>\n",
       "      <td>172.87</td>\n",
       "      <td>16000</td>\n",
       "      <td>...</td>\n",
       "      <td>37215.0</td>\n",
       "      <td>Patricia Tucker</td>\n",
       "      <td>2007-06-12</td>\n",
       "      <td>313 Lone Oak Drive</td>\n",
       "      <td>NaN</td>\n",
       "      <td>Norman</td>\n",
       "      <td>OK</td>\n",
       "      <td>73071</td>\n",
       "      <td>87652976</td>\n",
       "      <td>YEPN16077902472499</td>\n",
       "    </tr>\n",
       "    <tr>\n",
       "      <th>4</th>\n",
       "      <td>2020-06-01 00:00:00</td>\n",
       "      <td>TXN00000005</td>\n",
       "      <td>A00008173</td>\n",
       "      <td>PLC00000204</td>\n",
       "      <td>2011-12-26</td>\n",
       "      <td>2020-05-17</td>\n",
       "      <td>2020-05-22</td>\n",
       "      <td>Travel</td>\n",
       "      <td>88.53</td>\n",
       "      <td>3000</td>\n",
       "      <td>...</td>\n",
       "      <td>20018.0</td>\n",
       "      <td>Brenda Bean</td>\n",
       "      <td>2010-01-19</td>\n",
       "      <td>120 Wells Avenue</td>\n",
       "      <td>NaN</td>\n",
       "      <td>Glen Burnie</td>\n",
       "      <td>MD</td>\n",
       "      <td>21061</td>\n",
       "      <td>76119019</td>\n",
       "      <td>HZBK86544578578547</td>\n",
       "    </tr>\n",
       "  </tbody>\n",
       "</table>\n",
       "<p>5 rows × 53 columns</p>\n",
       "</div>"
      ],
      "text/plain": [
       "         TXN_DATE_TIME TRANSACTION_ID CUSTOMER_ID POLICY_NUMBER POLICY_EFF_DT  \\\n",
       "0  2020-06-01 00:00:00    TXN00000001   A00003822   PLC00008468    2015-06-23   \n",
       "1  2020-06-01 00:00:00    TXN00000002   A00008149   PLC00009594    2018-04-21   \n",
       "2  2020-06-01 00:00:00    TXN00000003   A00003172   PLC00007969    2019-10-03   \n",
       "3  2020-06-01 00:00:00    TXN00000004   A00007572   PLC00009292    2016-11-29   \n",
       "4  2020-06-01 00:00:00    TXN00000005   A00008173   PLC00000204    2011-12-26   \n",
       "\n",
       "      LOSS_DT   REPORT_DT INSURANCE_TYPE  PREMIUM_AMOUNT  CLAIM_AMOUNT  ...  \\\n",
       "0  2020-05-16  2020-05-21         Health          157.13          9000  ...   \n",
       "1  2020-05-13  2020-05-18       Property          141.71         26000  ...   \n",
       "2  2020-05-21  2020-05-26       Property          157.24         13000  ...   \n",
       "3  2020-05-14  2020-05-19         Health          172.87         16000  ...   \n",
       "4  2020-05-17  2020-05-22         Travel           88.53          3000  ...   \n",
       "\n",
       "  POSTAL_CODE_y       AGENT_NAME DATE_OF_JOINING                ADDRESS_LINE1  \\\n",
       "0       32405.0      Amy Wangler      1994-01-06          584 Rural Hill Road   \n",
       "1       72701.0   Jessica Montez      2004-05-28        6114 West Glenn Drive   \n",
       "2       72703.0     Howard Smith      2004-08-01  2500 Snowdoun Chambers Road   \n",
       "3       37215.0  Patricia Tucker      2007-06-12           313 Lone Oak Drive   \n",
       "4       20018.0      Brenda Bean      2010-01-19             120 Wells Avenue   \n",
       "\n",
       "  ADDRESS_LINE2         CITY STATE POSTAL_CODE  EMP_ROUTING_NUMBER  \\\n",
       "0           NaN    Nashville    TN       37217            35441155   \n",
       "1            #1     Glendale    AZ       85301            44055451   \n",
       "2           NaN   Montgomery    AL       36105            55770246   \n",
       "3           NaN       Norman    OK       73071            87652976   \n",
       "4           NaN  Glen Burnie    MD       21061            76119019   \n",
       "\n",
       "      EMP_ACCT_NUMBER  \n",
       "0  LRZO53254369804934  \n",
       "1  XBYG14382904542874  \n",
       "2  WRXH14597428306333  \n",
       "3  YEPN16077902472499  \n",
       "4  HZBK86544578578547  \n",
       "\n",
       "[5 rows x 53 columns]"
      ]
     },
     "execution_count": 8,
     "metadata": {},
     "output_type": "execute_result"
    }
   ],
   "source": [
    "df.head()"
   ]
  },
  {
   "cell_type": "code",
   "execution_count": 9,
   "id": "56ff065f",
   "metadata": {},
   "outputs": [],
   "source": [
    "n = 5\n",
    "df2=df.loc[df['RISK_SEGMENTATION'] == 'H', 'STATE'].value_counts().index.tolist()[:n]"
   ]
  },
  {
   "cell_type": "code",
   "execution_count": 10,
   "id": "c63d1a4c",
   "metadata": {},
   "outputs": [
    {
     "name": "stdout",
     "output_type": "stream",
     "text": [
      "['CA', 'DC', 'CO', 'MD', 'AZ']\n"
     ]
    }
   ],
   "source": [
    "print (df2)"
   ]
  },
  {
   "cell_type": "markdown",
   "id": "2c37b306",
   "metadata": {},
   "source": [
    "#### Task 4"
   ]
  },
  {
   "cell_type": "code",
   "execution_count": 21,
   "id": "d6c7f7ad",
   "metadata": {},
   "outputs": [],
   "source": [
    "def COLOCATION(row):\n",
    "    if row['STATE_x'] == row['INCIDENT_STATE']:\n",
    "        return 1\n",
    "    else:\n",
    "        return 0\n",
    "\n",
    "df['COLOCATION'] = df.apply(COLOCATION, axis=1)"
   ]
  },
  {
   "cell_type": "code",
   "execution_count": 22,
   "id": "aa2658bf",
   "metadata": {},
   "outputs": [
    {
     "name": "stdout",
     "output_type": "stream",
     "text": [
      "            TXN_DATE_TIME TRANSACTION_ID CUSTOMER_ID POLICY_NUMBER  \\\n",
      "0     2020-06-01 00:00:00    TXN00000001   A00003822   PLC00008468   \n",
      "1     2020-06-01 00:00:00    TXN00000002   A00008149   PLC00009594   \n",
      "2     2020-06-01 00:00:00    TXN00000003   A00003172   PLC00007969   \n",
      "3     2020-06-01 00:00:00    TXN00000004   A00007572   PLC00009292   \n",
      "4     2020-06-01 00:00:00    TXN00000005   A00008173   PLC00000204   \n",
      "...                   ...            ...         ...           ...   \n",
      "9995  2021-06-30 00:00:00    TXN00009996   A00006029   PLC00007245   \n",
      "9996  2021-06-30 00:00:00    TXN00009997   A00003555   PLC00002590   \n",
      "9997  2021-06-30 00:00:00    TXN00009998   A00004230   PLC00006613   \n",
      "9998  2021-06-30 00:00:00    TXN00009999   A00006694   PLC00001781   \n",
      "9999  2021-06-30 00:00:00    TXN00010000   A00000390   PLC00005197   \n",
      "\n",
      "     POLICY_EFF_DT     LOSS_DT   REPORT_DT INSURANCE_TYPE  PREMIUM_AMOUNT  \\\n",
      "0       2015-06-23  2020-05-16  2020-05-21         Health          157.13   \n",
      "1       2018-04-21  2020-05-13  2020-05-18       Property          141.71   \n",
      "2       2019-10-03  2020-05-21  2020-05-26       Property          157.24   \n",
      "3       2016-11-29  2020-05-14  2020-05-19         Health          172.87   \n",
      "4       2011-12-26  2020-05-17  2020-05-22         Travel           88.53   \n",
      "...            ...         ...         ...            ...             ...   \n",
      "9995    2014-04-11  2021-06-25  2021-06-26          Motor          105.75   \n",
      "9996    2015-08-25  2021-06-12  2021-06-17           Life           64.59   \n",
      "9997    2018-10-11  2021-06-18  2021-06-23         Health          183.50   \n",
      "9998    2016-01-29  2021-06-16  2021-06-21          Motor          113.46   \n",
      "9999    2014-09-17  2021-06-21  2021-06-24         Mobile            8.22   \n",
      "\n",
      "      CLAIM_AMOUNT  ...       AGENT_NAME DATE_OF_JOINING  \\\n",
      "0             9000  ...      Amy Wangler      1994-01-06   \n",
      "1            26000  ...   Jessica Montez      2004-05-28   \n",
      "2            13000  ...     Howard Smith      2004-08-01   \n",
      "3            16000  ...  Patricia Tucker      2007-06-12   \n",
      "4             3000  ...      Brenda Bean      2010-01-19   \n",
      "...            ...  ...              ...             ...   \n",
      "9995          1000  ...    Melissa Scott      1990-10-12   \n",
      "9996         67000  ...     Freda Dudley      2013-01-17   \n",
      "9997          8000  ...    Victor Perrin      1993-02-11   \n",
      "9998          2000  ...       Maria Lynn      2010-04-16   \n",
      "9999           300  ...      Carl Balado      2007-10-26   \n",
      "\n",
      "                    ADDRESS_LINE1 ADDRESS_LINE2          CITY  STATE  \\\n",
      "0             584 Rural Hill Road           NaN     Nashville     TN   \n",
      "1           6114 West Glenn Drive            #1      Glendale     AZ   \n",
      "2     2500 Snowdoun Chambers Road           NaN    Montgomery     AL   \n",
      "3              313 Lone Oak Drive           NaN        Norman     OK   \n",
      "4                120 Wells Avenue           NaN   Glen Burnie     MD   \n",
      "...                           ...           ...           ...    ...   \n",
      "9995    2723 East Joyce Boulevard           NaN  Fayetteville     AR   \n",
      "9996        1363 Dean Forest Road           NaN      Savannah     GA   \n",
      "9997           9912 Shirewick Way           NaN    Louisville     KY   \n",
      "9998      302 East Granada Street           NaN  Fayetteville     AR   \n",
      "9999               1713 Apian Way           NaN        Edmond     OK   \n",
      "\n",
      "     POSTAL_CODE EMP_ROUTING_NUMBER     EMP_ACCT_NUMBER  COLOCATION  \n",
      "0          37217           35441155  LRZO53254369804934           0  \n",
      "1          85301           44055451  XBYG14382904542874           0  \n",
      "2          36105           55770246  WRXH14597428306333           0  \n",
      "3          73071           87652976  YEPN16077902472499           1  \n",
      "4          21061           76119019  HZBK86544578578547           0  \n",
      "...          ...                ...                 ...         ...  \n",
      "9995       72703           35413882  LFOJ76068590051807           1  \n",
      "9996       31405           91206790  AHEF60771774635030           0  \n",
      "9997       40272          115241097  WREH18805592939657           0  \n",
      "9998       72703           13995380  AAZI21883736448048           0  \n",
      "9999       73003           39790996  RPES05613584687957           0  \n",
      "\n",
      "[10000 rows x 54 columns]\n"
     ]
    }
   ],
   "source": [
    "print (df)"
   ]
  },
  {
   "cell_type": "code",
   "execution_count": 23,
   "id": "2af37539",
   "metadata": {},
   "outputs": [
    {
     "name": "stdout",
     "output_type": "stream",
     "text": [
      "      COLOCATION\n",
      "0              0\n",
      "1              0\n",
      "2              0\n",
      "3              1\n",
      "4              0\n",
      "...          ...\n",
      "9995           1\n",
      "9996           0\n",
      "9997           0\n",
      "9998           0\n",
      "9999           0\n",
      "\n",
      "[10000 rows x 1 columns]\n"
     ]
    }
   ],
   "source": [
    "print(df[['COLOCATION']])"
   ]
  },
  {
   "cell_type": "code",
   "execution_count": 25,
   "id": "030369a3",
   "metadata": {},
   "outputs": [
    {
     "name": "stdout",
     "output_type": "stream",
     "text": [
      "0.0642\n"
     ]
    }
   ],
   "source": [
    "mean = df[\"COLOCATION\"].mean()\n",
    "print(mean)"
   ]
  },
  {
   "cell_type": "markdown",
   "id": "6b6259bc",
   "metadata": {},
   "source": [
    "#### Task 12"
   ]
  },
  {
   "cell_type": "code",
   "execution_count": 30,
   "id": "df060e01",
   "metadata": {},
   "outputs": [],
   "source": [
    "def Suspicious_Agents(row):\n",
    "    if row['CLAIM_STATUS'] == 'A' and row['RISK_SEGMENTATION'] == 'H' and row['INCIDENT_SEVERITY'] == 'Major Loss':\n",
    "        return 1\n",
    "    else:\n",
    "        return 0\n",
    "\n",
    "df['Suspicious_Agents'] = df.apply(Suspicious_Agents, axis=1)"
   ]
  },
  {
   "cell_type": "code",
   "execution_count": 31,
   "id": "2c90de00",
   "metadata": {},
   "outputs": [
    {
     "name": "stdout",
     "output_type": "stream",
     "text": [
      "            TXN_DATE_TIME TRANSACTION_ID CUSTOMER_ID POLICY_NUMBER  \\\n",
      "0     2020-06-01 00:00:00    TXN00000001   A00003822   PLC00008468   \n",
      "1     2020-06-01 00:00:00    TXN00000002   A00008149   PLC00009594   \n",
      "2     2020-06-01 00:00:00    TXN00000003   A00003172   PLC00007969   \n",
      "3     2020-06-01 00:00:00    TXN00000004   A00007572   PLC00009292   \n",
      "4     2020-06-01 00:00:00    TXN00000005   A00008173   PLC00000204   \n",
      "...                   ...            ...         ...           ...   \n",
      "9995  2021-06-30 00:00:00    TXN00009996   A00006029   PLC00007245   \n",
      "9996  2021-06-30 00:00:00    TXN00009997   A00003555   PLC00002590   \n",
      "9997  2021-06-30 00:00:00    TXN00009998   A00004230   PLC00006613   \n",
      "9998  2021-06-30 00:00:00    TXN00009999   A00006694   PLC00001781   \n",
      "9999  2021-06-30 00:00:00    TXN00010000   A00000390   PLC00005197   \n",
      "\n",
      "     POLICY_EFF_DT     LOSS_DT   REPORT_DT INSURANCE_TYPE  PREMIUM_AMOUNT  \\\n",
      "0       2015-06-23  2020-05-16  2020-05-21         Health          157.13   \n",
      "1       2018-04-21  2020-05-13  2020-05-18       Property          141.71   \n",
      "2       2019-10-03  2020-05-21  2020-05-26       Property          157.24   \n",
      "3       2016-11-29  2020-05-14  2020-05-19         Health          172.87   \n",
      "4       2011-12-26  2020-05-17  2020-05-22         Travel           88.53   \n",
      "...            ...         ...         ...            ...             ...   \n",
      "9995    2014-04-11  2021-06-25  2021-06-26          Motor          105.75   \n",
      "9996    2015-08-25  2021-06-12  2021-06-17           Life           64.59   \n",
      "9997    2018-10-11  2021-06-18  2021-06-23         Health          183.50   \n",
      "9998    2016-01-29  2021-06-16  2021-06-21          Motor          113.46   \n",
      "9999    2014-09-17  2021-06-21  2021-06-24         Mobile            8.22   \n",
      "\n",
      "      CLAIM_AMOUNT  ... DATE_OF_JOINING                ADDRESS_LINE1  \\\n",
      "0             9000  ...      1994-01-06          584 Rural Hill Road   \n",
      "1            26000  ...      2004-05-28        6114 West Glenn Drive   \n",
      "2            13000  ...      2004-08-01  2500 Snowdoun Chambers Road   \n",
      "3            16000  ...      2007-06-12           313 Lone Oak Drive   \n",
      "4             3000  ...      2010-01-19             120 Wells Avenue   \n",
      "...            ...  ...             ...                          ...   \n",
      "9995          1000  ...      1990-10-12    2723 East Joyce Boulevard   \n",
      "9996         67000  ...      2013-01-17        1363 Dean Forest Road   \n",
      "9997          8000  ...      1993-02-11           9912 Shirewick Way   \n",
      "9998          2000  ...      2010-04-16      302 East Granada Street   \n",
      "9999           300  ...      2007-10-26               1713 Apian Way   \n",
      "\n",
      "     ADDRESS_LINE2          CITY STATE  POSTAL_CODE EMP_ROUTING_NUMBER  \\\n",
      "0              NaN     Nashville    TN        37217           35441155   \n",
      "1               #1      Glendale    AZ        85301           44055451   \n",
      "2              NaN    Montgomery    AL        36105           55770246   \n",
      "3              NaN        Norman    OK        73071           87652976   \n",
      "4              NaN   Glen Burnie    MD        21061           76119019   \n",
      "...            ...           ...   ...          ...                ...   \n",
      "9995           NaN  Fayetteville    AR        72703           35413882   \n",
      "9996           NaN      Savannah    GA        31405           91206790   \n",
      "9997           NaN    Louisville    KY        40272          115241097   \n",
      "9998           NaN  Fayetteville    AR        72703           13995380   \n",
      "9999           NaN        Edmond    OK        73003           39790996   \n",
      "\n",
      "         EMP_ACCT_NUMBER  COLOCATION  Suspicious_Agents  \n",
      "0     LRZO53254369804934           0                  0  \n",
      "1     XBYG14382904542874           0                  0  \n",
      "2     WRXH14597428306333           0                  0  \n",
      "3     YEPN16077902472499           1                  0  \n",
      "4     HZBK86544578578547           0                  0  \n",
      "...                  ...         ...                ...  \n",
      "9995  LFOJ76068590051807           1                  0  \n",
      "9996  AHEF60771774635030           0                  0  \n",
      "9997  WREH18805592939657           0                  0  \n",
      "9998  AAZI21883736448048           0                  0  \n",
      "9999  RPES05613584687957           0                  0  \n",
      "\n",
      "[10000 rows x 55 columns]\n"
     ]
    }
   ],
   "source": [
    "print(df)"
   ]
  },
  {
   "cell_type": "code",
   "execution_count": null,
   "id": "09314528",
   "metadata": {},
   "outputs": [],
   "source": []
  }
 ],
 "metadata": {
  "kernelspec": {
   "display_name": "Python 3 (ipykernel)",
   "language": "python",
   "name": "python3"
  },
  "language_info": {
   "codemirror_mode": {
    "name": "ipython",
    "version": 3
   },
   "file_extension": ".py",
   "mimetype": "text/x-python",
   "name": "python",
   "nbconvert_exporter": "python",
   "pygments_lexer": "ipython3",
   "version": "3.8.5"
  }
 },
 "nbformat": 4,
 "nbformat_minor": 5
}
